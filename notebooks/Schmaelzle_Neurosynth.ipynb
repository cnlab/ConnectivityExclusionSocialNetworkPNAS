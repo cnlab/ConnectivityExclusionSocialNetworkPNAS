{
 "cells": [
  {
   "cell_type": "markdown",
   "metadata": {},
   "source": [
    "### Neurosynth Meta-Analysis\n",
    "This notebook computes two meta-analyses using Neurosynth.org."
   ]
  },
  {
   "cell_type": "code",
   "execution_count": null,
   "metadata": {
    "collapsed": true
   },
   "outputs": [],
   "source": [
    "import neurosynth\n",
    "import os\n",
    "from neurosynth.base.dataset import Dataset\n",
    "from neurosynth.analysis import meta, decode, network\n",
    "neurosynth.set_logging_level('info')\n",
    "import pandas as pd"
   ]
  },
  {
   "cell_type": "code",
   "execution_count": null,
   "metadata": {
    "collapsed": true
   },
   "outputs": [],
   "source": [
    "home_path               = '../..'\n",
    "os.chdir(home_path)\n",
    "\n",
    "# you need to download these files from neurosynth on your own!\n",
    "meta_analysis_dataset_path  =  #'neurosynth/dataset.pkl'\n",
    "meta_analysis_database_path  =  #'neurosynth/database.txt'\n",
    "\n",
    "dataset = Dataset.load(meta_analysis_dataset_path)  \n",
    "dataset.get_feature_names()\n",
    "data = pd.read_csv(meta_analysis_database_path, sep='\\t')"
   ]
  },
  {
   "cell_type": "code",
   "execution_count": 1,
   "metadata": {
    "collapsed": false
   },
   "outputs": [
    {
     "name": "stdout",
     "output_type": "stream",
     "text": [
      "Found 112 studies.\n"
     ]
    },
    {
     "name": "stderr",
     "output_type": "stream",
     "text": [
      "Generating LALR tables\n",
      "WARNING: 15 shift/reduce conflicts\n"
     ]
    }
   ],
   "source": [
    "ids = dataset.get_ids_by_expression('social* & pain*', threshold=0.001)\n",
    "ma = meta.MetaAnalysis(dataset, ids)\n",
    "ma.save_results('social_And_pain')\n",
    "the_social_pain_studies = data.loc[data['id'].isin(ids)]\n",
    "\n",
    "ids = dataset.get_ids_by_features('mentali*', threshold=0.001)\n",
    "ma = meta.MetaAnalysis(dataset, ids)\n",
    "ma.save_results('mentali')\n",
    "print \"Found %d studies.\" % len(ids)\n",
    "the_menatlizing_studies = data.loc[data['id'].isin(ids)]"
   ]
  },
  {
   "cell_type": "markdown",
   "metadata": {
    "collapsed": true
   },
   "source": [
    "* 2017 | Ralf Schmaelzle | Matthew Brook O'Donnell "
   ]
  }
 ],
 "metadata": {
  "kernelspec": {
   "display_name": "Python 2",
   "language": "python",
   "name": "python2"
  },
  "language_info": {
   "codemirror_mode": {
    "name": "ipython",
    "version": 2
   },
   "file_extension": ".py",
   "mimetype": "text/x-python",
   "name": "python",
   "nbconvert_exporter": "python",
   "pygments_lexer": "ipython2",
   "version": "2.7.12"
  }
 },
 "nbformat": 4,
 "nbformat_minor": 0
}
