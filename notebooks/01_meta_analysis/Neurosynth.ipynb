{
 "cells": [
  {
   "cell_type": "markdown",
   "metadata": {},
   "source": [
    "### Neurosynth"
   ]
  },
  {
   "cell_type": "code",
   "execution_count": 1,
   "metadata": {
    "collapsed": false
   },
   "outputs": [
    {
     "name": "stdout",
     "output_type": "stream",
     "text": [
      "Found 112 studies.\n"
     ]
    },
    {
     "name": "stderr",
     "output_type": "stream",
     "text": [
      "Generating LALR tables\n",
      "WARNING: 15 shift/reduce conflicts\n"
     ]
    }
   ],
   "source": [
    "import neurosynth\n",
    "import os\n",
    "from neurosynth.base.dataset import Dataset\n",
    "from neurosynth.analysis import meta, decode, network\n",
    "import pandas as pd\n",
    "\n",
    "os.chdir('/Users/Ralf/Desktop/')\n",
    "neurosynth.set_logging_level('info')\n",
    "dataset = Dataset.load('/Users/Ralf/My Cloud/RalfsFunctions/RalfsPython/neurosynth/dataset.pkl')   # Note the capital D in the second Dataset--load() is a class method\n",
    "dataset.get_feature_names()\n",
    "data = pd.read_csv('/Users/Ralf/My Cloud/RalfsFunctions/RalfsPython/neurosynth/data/database.txt', sep='\\t')\n",
    "\n",
    "\n",
    "ids = dataset.get_ids_by_expression('social* & pain*', threshold=0.001)\n",
    "ma = meta.MetaAnalysis(dataset, ids)\n",
    "ma.save_results('social_And_pain')\n",
    "the_social_pain_studies = data.loc[data['id'].isin(ids)]\n",
    "\n",
    "ids = dataset.get_ids_by_features('mentali*', threshold=0.001)\n",
    "ma = meta.MetaAnalysis(dataset, ids)\n",
    "ma.save_results('mentali')\n",
    "print \"Found %d studies.\" % len(ids)\n",
    "the_menatlizing_studies = data.loc[data['id'].isin(ids)]"
   ]
  },
  {
   "cell_type": "code",
   "execution_count": null,
   "metadata": {
    "collapsed": true
   },
   "outputs": [],
   "source": []
  }
 ],
 "metadata": {
  "kernelspec": {
   "display_name": "Python 2",
   "language": "python",
   "name": "python2"
  },
  "language_info": {
   "codemirror_mode": {
    "name": "ipython",
    "version": 2
   },
   "file_extension": ".py",
   "mimetype": "text/x-python",
   "name": "python",
   "nbconvert_exporter": "python",
   "pygments_lexer": "ipython2",
   "version": "2.7.12"
  }
 },
 "nbformat": 4,
 "nbformat_minor": 0
}
